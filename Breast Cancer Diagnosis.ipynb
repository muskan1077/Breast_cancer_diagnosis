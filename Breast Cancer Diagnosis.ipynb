{
 "cells": [
  {
   "cell_type": "code",
   "execution_count": 1,
   "id": "6eb92ebc",
   "metadata": {},
   "outputs": [],
   "source": [
    "#importing libraries\n",
    "import numpy as np\n",
    "import matplotlib.pyplot as plt\n",
    "%matplotlib inline\n",
    "import pandas as pd\n",
    "import seaborn as sns"
   ]
  },
  {
   "cell_type": "code",
   "execution_count": 2,
   "id": "9d7e4f85",
   "metadata": {},
   "outputs": [],
   "source": [
    "# reading data from the file\n",
    "df=pd.read_table(\"breast-cancer-wisconsin.data\",sep=',')"
   ]
  },
  {
   "cell_type": "code",
   "execution_count": 3,
   "id": "25de8311",
   "metadata": {},
   "outputs": [
    {
     "data": {
      "text/html": [
       "<div>\n",
       "<style scoped>\n",
       "    .dataframe tbody tr th:only-of-type {\n",
       "        vertical-align: middle;\n",
       "    }\n",
       "\n",
       "    .dataframe tbody tr th {\n",
       "        vertical-align: top;\n",
       "    }\n",
       "\n",
       "    .dataframe thead th {\n",
       "        text-align: right;\n",
       "    }\n",
       "</style>\n",
       "<table border=\"1\" class=\"dataframe\">\n",
       "  <thead>\n",
       "    <tr style=\"text-align: right;\">\n",
       "      <th></th>\n",
       "      <th>ID</th>\n",
       "      <th>clump_thickness</th>\n",
       "      <th>uniformity_cellsize</th>\n",
       "      <th>uniformity_cellshape</th>\n",
       "      <th>marginal_adhesion</th>\n",
       "      <th>single_epithelial_cellsize</th>\n",
       "      <th>bare_nuclei</th>\n",
       "      <th>bland_chromatin</th>\n",
       "      <th>normal_nucleoli</th>\n",
       "      <th>mitoses</th>\n",
       "      <th>class</th>\n",
       "    </tr>\n",
       "  </thead>\n",
       "  <tbody>\n",
       "    <tr>\n",
       "      <th>0</th>\n",
       "      <td>1000025</td>\n",
       "      <td>5</td>\n",
       "      <td>1</td>\n",
       "      <td>1</td>\n",
       "      <td>1</td>\n",
       "      <td>2</td>\n",
       "      <td>1</td>\n",
       "      <td>3</td>\n",
       "      <td>1</td>\n",
       "      <td>1</td>\n",
       "      <td>2</td>\n",
       "    </tr>\n",
       "    <tr>\n",
       "      <th>1</th>\n",
       "      <td>1002945</td>\n",
       "      <td>5</td>\n",
       "      <td>4</td>\n",
       "      <td>4</td>\n",
       "      <td>5</td>\n",
       "      <td>7</td>\n",
       "      <td>10</td>\n",
       "      <td>3</td>\n",
       "      <td>2</td>\n",
       "      <td>1</td>\n",
       "      <td>2</td>\n",
       "    </tr>\n",
       "    <tr>\n",
       "      <th>2</th>\n",
       "      <td>1015425</td>\n",
       "      <td>3</td>\n",
       "      <td>1</td>\n",
       "      <td>1</td>\n",
       "      <td>1</td>\n",
       "      <td>2</td>\n",
       "      <td>2</td>\n",
       "      <td>3</td>\n",
       "      <td>1</td>\n",
       "      <td>1</td>\n",
       "      <td>2</td>\n",
       "    </tr>\n",
       "    <tr>\n",
       "      <th>3</th>\n",
       "      <td>1016277</td>\n",
       "      <td>6</td>\n",
       "      <td>8</td>\n",
       "      <td>8</td>\n",
       "      <td>1</td>\n",
       "      <td>3</td>\n",
       "      <td>4</td>\n",
       "      <td>3</td>\n",
       "      <td>7</td>\n",
       "      <td>1</td>\n",
       "      <td>2</td>\n",
       "    </tr>\n",
       "    <tr>\n",
       "      <th>4</th>\n",
       "      <td>1017023</td>\n",
       "      <td>4</td>\n",
       "      <td>1</td>\n",
       "      <td>1</td>\n",
       "      <td>3</td>\n",
       "      <td>2</td>\n",
       "      <td>1</td>\n",
       "      <td>3</td>\n",
       "      <td>1</td>\n",
       "      <td>1</td>\n",
       "      <td>2</td>\n",
       "    </tr>\n",
       "  </tbody>\n",
       "</table>\n",
       "</div>"
      ],
      "text/plain": [
       "        ID  clump_thickness  uniformity_cellsize  uniformity_cellshape  \\\n",
       "0  1000025                5                    1                     1   \n",
       "1  1002945                5                    4                     4   \n",
       "2  1015425                3                    1                     1   \n",
       "3  1016277                6                    8                     8   \n",
       "4  1017023                4                    1                     1   \n",
       "\n",
       "   marginal_adhesion  single_epithelial_cellsize bare_nuclei  bland_chromatin  \\\n",
       "0                  1                           2           1                3   \n",
       "1                  5                           7          10                3   \n",
       "2                  1                           2           2                3   \n",
       "3                  1                           3           4                3   \n",
       "4                  3                           2           1                3   \n",
       "\n",
       "   normal_nucleoli  mitoses  class  \n",
       "0                1        1      2  \n",
       "1                2        1      2  \n",
       "2                1        1      2  \n",
       "3                7        1      2  \n",
       "4                1        1      2  "
      ]
     },
     "execution_count": 3,
     "metadata": {},
     "output_type": "execute_result"
    }
   ],
   "source": [
    "df.head()"
   ]
  },
  {
   "cell_type": "code",
   "execution_count": 4,
   "id": "de1f21c8",
   "metadata": {
    "scrolled": true
   },
   "outputs": [
    {
     "name": "stdout",
     "output_type": "stream",
     "text": [
      "<class 'pandas.core.frame.DataFrame'>\n",
      "RangeIndex: 699 entries, 0 to 698\n",
      "Data columns (total 11 columns):\n",
      " #   Column                      Non-Null Count  Dtype \n",
      "---  ------                      --------------  ----- \n",
      " 0   ID                          699 non-null    int64 \n",
      " 1   clump_thickness             699 non-null    int64 \n",
      " 2   uniformity_cellsize         699 non-null    int64 \n",
      " 3   uniformity_cellshape        699 non-null    int64 \n",
      " 4   marginal_adhesion           699 non-null    int64 \n",
      " 5   single_epithelial_cellsize  699 non-null    int64 \n",
      " 6   bare_nuclei                 699 non-null    object\n",
      " 7   bland_chromatin             699 non-null    int64 \n",
      " 8   normal_nucleoli             699 non-null    int64 \n",
      " 9   mitoses                     699 non-null    int64 \n",
      " 10  class                       699 non-null    int64 \n",
      "dtypes: int64(10), object(1)\n",
      "memory usage: 60.2+ KB\n"
     ]
    }
   ],
   "source": [
    "df.info()"
   ]
  },
  {
   "cell_type": "code",
   "execution_count": 5,
   "id": "43beb1e1",
   "metadata": {},
   "outputs": [],
   "source": [
    "#replace column having '?' with 'None'\n",
    "df['bare_nuclei']=df['bare_nuclei'].replace('?', None)"
   ]
  },
  {
   "cell_type": "code",
   "execution_count": 6,
   "id": "7ca3a564",
   "metadata": {},
   "outputs": [
    {
     "name": "stdout",
     "output_type": "stream",
     "text": [
      "<class 'pandas.core.frame.DataFrame'>\n",
      "RangeIndex: 699 entries, 0 to 698\n",
      "Data columns (total 11 columns):\n",
      " #   Column                      Non-Null Count  Dtype \n",
      "---  ------                      --------------  ----- \n",
      " 0   ID                          699 non-null    int64 \n",
      " 1   clump_thickness             699 non-null    int64 \n",
      " 2   uniformity_cellsize         699 non-null    int64 \n",
      " 3   uniformity_cellshape        699 non-null    int64 \n",
      " 4   marginal_adhesion           699 non-null    int64 \n",
      " 5   single_epithelial_cellsize  699 non-null    int64 \n",
      " 6   bare_nuclei                 683 non-null    object\n",
      " 7   bland_chromatin             699 non-null    int64 \n",
      " 8   normal_nucleoli             699 non-null    int64 \n",
      " 9   mitoses                     699 non-null    int64 \n",
      " 10  class                       699 non-null    int64 \n",
      "dtypes: int64(10), object(1)\n",
      "memory usage: 60.2+ KB\n"
     ]
    }
   ],
   "source": [
    "df.info()"
   ]
  },
  {
   "cell_type": "code",
   "execution_count": 7,
   "id": "5a5d4311",
   "metadata": {},
   "outputs": [
    {
     "name": "stdout",
     "output_type": "stream",
     "text": [
      "          ID  clump_thickness  uniformity_cellsize  uniformity_cellshape  \\\n",
      "23   1057013                8                    4                     5   \n",
      "40   1096800                6                    6                     6   \n",
      "139  1183246                1                    1                     1   \n",
      "145  1184840                1                    1                     3   \n",
      "158  1193683                1                    1                     2   \n",
      "164  1197510                5                    1                     1   \n",
      "235  1241232                3                    1                     4   \n",
      "249   169356                3                    1                     1   \n",
      "275   432809                3                    1                     3   \n",
      "292   563649                8                    8                     8   \n",
      "294   606140                1                    1                     1   \n",
      "297    61634                5                    4                     3   \n",
      "315   704168                4                    6                     5   \n",
      "321   733639                3                    1                     1   \n",
      "411  1238464                1                    1                     1   \n",
      "617  1057067                1                    1                     1   \n",
      "\n",
      "     marginal_adhesion  single_epithelial_cellsize bare_nuclei  \\\n",
      "23                   1                           2        None   \n",
      "40                   9                           6        None   \n",
      "139                  1                           1        None   \n",
      "145                  1                           2        None   \n",
      "158                  1                           3        None   \n",
      "164                  1                           2        None   \n",
      "235                  1                           2        None   \n",
      "249                  1                           2        None   \n",
      "275                  1                           2        None   \n",
      "292                  1                           2        None   \n",
      "294                  1                           2        None   \n",
      "297                  1                           2        None   \n",
      "315                  6                           7        None   \n",
      "321                  1                           2        None   \n",
      "411                  1                           1        None   \n",
      "617                  1                           1        None   \n",
      "\n",
      "     bland_chromatin  normal_nucleoli  mitoses  class  \n",
      "23                 7                3        1      4  \n",
      "40                 7                8        1      2  \n",
      "139                2                1        1      2  \n",
      "145                2                1        1      2  \n",
      "158                1                1        1      2  \n",
      "164                3                1        1      2  \n",
      "235                3                1        1      2  \n",
      "249                3                1        1      2  \n",
      "275                2                1        1      2  \n",
      "292                6               10        1      4  \n",
      "294                2                1        1      2  \n",
      "297                2                3        1      2  \n",
      "315                4                9        1      2  \n",
      "321                3                1        1      2  \n",
      "411                2                1        1      2  \n",
      "617                1                1        1      2  \n"
     ]
    }
   ],
   "source": [
    "print(df[df.isnull().any(axis=1)])"
   ]
  },
  {
   "cell_type": "code",
   "execution_count": 8,
   "id": "13b74fec",
   "metadata": {},
   "outputs": [
    {
     "data": {
      "text/html": [
       "<div>\n",
       "<style scoped>\n",
       "    .dataframe tbody tr th:only-of-type {\n",
       "        vertical-align: middle;\n",
       "    }\n",
       "\n",
       "    .dataframe tbody tr th {\n",
       "        vertical-align: top;\n",
       "    }\n",
       "\n",
       "    .dataframe thead th {\n",
       "        text-align: right;\n",
       "    }\n",
       "</style>\n",
       "<table border=\"1\" class=\"dataframe\">\n",
       "  <thead>\n",
       "    <tr style=\"text-align: right;\">\n",
       "      <th></th>\n",
       "      <th>ID</th>\n",
       "      <th>clump_thickness</th>\n",
       "      <th>uniformity_cellsize</th>\n",
       "      <th>uniformity_cellshape</th>\n",
       "      <th>marginal_adhesion</th>\n",
       "      <th>single_epithelial_cellsize</th>\n",
       "      <th>bare_nuclei</th>\n",
       "      <th>bland_chromatin</th>\n",
       "      <th>normal_nucleoli</th>\n",
       "      <th>mitoses</th>\n",
       "      <th>class</th>\n",
       "    </tr>\n",
       "  </thead>\n",
       "  <tbody>\n",
       "    <tr>\n",
       "      <th>23</th>\n",
       "      <td>1057013</td>\n",
       "      <td>8</td>\n",
       "      <td>4</td>\n",
       "      <td>5</td>\n",
       "      <td>1</td>\n",
       "      <td>2</td>\n",
       "      <td>None</td>\n",
       "      <td>7</td>\n",
       "      <td>3</td>\n",
       "      <td>1</td>\n",
       "      <td>4</td>\n",
       "    </tr>\n",
       "  </tbody>\n",
       "</table>\n",
       "</div>"
      ],
      "text/plain": [
       "         ID  clump_thickness  uniformity_cellsize  uniformity_cellshape  \\\n",
       "23  1057013                8                    4                     5   \n",
       "\n",
       "    marginal_adhesion  single_epithelial_cellsize bare_nuclei  \\\n",
       "23                  1                           2        None   \n",
       "\n",
       "    bland_chromatin  normal_nucleoli  mitoses  class  \n",
       "23                7                3        1      4  "
      ]
     },
     "execution_count": 8,
     "metadata": {},
     "output_type": "execute_result"
    }
   ],
   "source": [
    "df.loc[[23]]"
   ]
  },
  {
   "cell_type": "code",
   "execution_count": 9,
   "id": "14cc6cfa",
   "metadata": {},
   "outputs": [],
   "source": [
    "df=df.dropna()"
   ]
  },
  {
   "cell_type": "code",
   "execution_count": 10,
   "id": "9bf5354d",
   "metadata": {},
   "outputs": [
    {
     "name": "stdout",
     "output_type": "stream",
     "text": [
      "<class 'pandas.core.frame.DataFrame'>\n",
      "Int64Index: 683 entries, 0 to 698\n",
      "Data columns (total 11 columns):\n",
      " #   Column                      Non-Null Count  Dtype \n",
      "---  ------                      --------------  ----- \n",
      " 0   ID                          683 non-null    int64 \n",
      " 1   clump_thickness             683 non-null    int64 \n",
      " 2   uniformity_cellsize         683 non-null    int64 \n",
      " 3   uniformity_cellshape        683 non-null    int64 \n",
      " 4   marginal_adhesion           683 non-null    int64 \n",
      " 5   single_epithelial_cellsize  683 non-null    int64 \n",
      " 6   bare_nuclei                 683 non-null    object\n",
      " 7   bland_chromatin             683 non-null    int64 \n",
      " 8   normal_nucleoli             683 non-null    int64 \n",
      " 9   mitoses                     683 non-null    int64 \n",
      " 10  class                       683 non-null    int64 \n",
      "dtypes: int64(10), object(1)\n",
      "memory usage: 64.0+ KB\n"
     ]
    }
   ],
   "source": [
    "df.info()"
   ]
  },
  {
   "cell_type": "code",
   "execution_count": 11,
   "id": "e89b0bbd",
   "metadata": {},
   "outputs": [
    {
     "data": {
      "text/plain": [
       "2    444\n",
       "4    239\n",
       "Name: class, dtype: int64"
      ]
     },
     "execution_count": 11,
     "metadata": {},
     "output_type": "execute_result"
    }
   ],
   "source": [
    "df['class'].value_counts()"
   ]
  },
  {
   "cell_type": "code",
   "execution_count": 12,
   "id": "a2f621b6",
   "metadata": {},
   "outputs": [],
   "source": [
    "from sklearn.preprocessing import LabelEncoder\n",
    "labelencoder_Y = LabelEncoder()\n",
    "df.iloc[:,10]=labelencoder_Y.fit_transform(df.iloc[:,10].values)"
   ]
  },
  {
   "cell_type": "code",
   "execution_count": 13,
   "id": "44256440",
   "metadata": {},
   "outputs": [
    {
     "data": {
      "text/plain": [
       "ID                            1059552\n",
       "clump_thickness                     1\n",
       "uniformity_cellsize                 1\n",
       "uniformity_cellshape                1\n",
       "marginal_adhesion                   1\n",
       "single_epithelial_cellsize          2\n",
       "bare_nuclei                         1\n",
       "bland_chromatin                     3\n",
       "normal_nucleoli                     1\n",
       "mitoses                             1\n",
       "class                               0\n",
       "Name: 24, dtype: object"
      ]
     },
     "execution_count": 13,
     "metadata": {},
     "output_type": "execute_result"
    }
   ],
   "source": [
    "df.iloc[23]"
   ]
  },
  {
   "cell_type": "code",
   "execution_count": 40,
   "id": "939f87e0",
   "metadata": {},
   "outputs": [
    {
     "data": {
      "text/plain": [
       "0    444\n",
       "1    239\n",
       "Name: class, dtype: int64"
      ]
     },
     "execution_count": 40,
     "metadata": {},
     "output_type": "execute_result"
    }
   ],
   "source": [
    "df['class'].value_counts()"
   ]
  },
  {
   "cell_type": "code",
   "execution_count": 14,
   "id": "8d70bb26",
   "metadata": {},
   "outputs": [
    {
     "data": {
      "text/plain": [
       "<AxesSubplot:>"
      ]
     },
     "execution_count": 14,
     "metadata": {},
     "output_type": "execute_result"
    },
    {
     "data": {
      "image/png": "[encoded data removed]",
      "text/plain": [
       "<Figure size 720x720 with 2 Axes>"
      ]
     },
     "metadata": {
      "needs_background": "light"
     },
     "output_type": "display_data"
    }
   ],
   "source": [
    "# visualize the correlation\n",
    "plt.figure(figsize=(10,10))\n",
    "sns.heatmap(df.iloc[:,1:10].corr(),annot=True,fmt=\".0%\")"
   ]
  },
  {
   "cell_type": "code",
   "execution_count": 15,
   "id": "8af3810a",
   "metadata": {},
   "outputs": [],
   "source": [
    "Y= df['class']\n",
    " #Load X Variables into a Pandas Dataframe with columns \n",
    "X = df.drop(['class'], axis = 1)\n",
    "X=X.drop(['ID'],axis=1)"
   ]
  },
  {
   "cell_type": "code",
   "execution_count": 16,
   "id": "426b582a",
   "metadata": {},
   "outputs": [
    {
     "data": {
      "text/html": [
       "<div>\n",
       "<style scoped>\n",
       "    .dataframe tbody tr th:only-of-type {\n",
       "        vertical-align: middle;\n",
       "    }\n",
       "\n",
       "    .dataframe tbody tr th {\n",
       "        vertical-align: top;\n",
       "    }\n",
       "\n",
       "    .dataframe thead th {\n",
       "        text-align: right;\n",
       "    }\n",
       "</style>\n",
       "<table border=\"1\" class=\"dataframe\">\n",
       "  <thead>\n",
       "    <tr style=\"text-align: right;\">\n",
       "      <th></th>\n",
       "      <th>clump_thickness</th>\n",
       "      <th>uniformity_cellsize</th>\n",
       "      <th>uniformity_cellshape</th>\n",
       "      <th>marginal_adhesion</th>\n",
       "      <th>single_epithelial_cellsize</th>\n",
       "      <th>bare_nuclei</th>\n",
       "      <th>bland_chromatin</th>\n",
       "      <th>normal_nucleoli</th>\n",
       "      <th>mitoses</th>\n",
       "    </tr>\n",
       "  </thead>\n",
       "  <tbody>\n",
       "    <tr>\n",
       "      <th>0</th>\n",
       "      <td>5</td>\n",
       "      <td>1</td>\n",
       "      <td>1</td>\n",
       "      <td>1</td>\n",
       "      <td>2</td>\n",
       "      <td>1</td>\n",
       "      <td>3</td>\n",
       "      <td>1</td>\n",
       "      <td>1</td>\n",
       "    </tr>\n",
       "    <tr>\n",
       "      <th>1</th>\n",
       "      <td>5</td>\n",
       "      <td>4</td>\n",
       "      <td>4</td>\n",
       "      <td>5</td>\n",
       "      <td>7</td>\n",
       "      <td>10</td>\n",
       "      <td>3</td>\n",
       "      <td>2</td>\n",
       "      <td>1</td>\n",
       "    </tr>\n",
       "    <tr>\n",
       "      <th>2</th>\n",
       "      <td>3</td>\n",
       "      <td>1</td>\n",
       "      <td>1</td>\n",
       "      <td>1</td>\n",
       "      <td>2</td>\n",
       "      <td>2</td>\n",
       "      <td>3</td>\n",
       "      <td>1</td>\n",
       "      <td>1</td>\n",
       "    </tr>\n",
       "    <tr>\n",
       "      <th>3</th>\n",
       "      <td>6</td>\n",
       "      <td>8</td>\n",
       "      <td>8</td>\n",
       "      <td>1</td>\n",
       "      <td>3</td>\n",
       "      <td>4</td>\n",
       "      <td>3</td>\n",
       "      <td>7</td>\n",
       "      <td>1</td>\n",
       "    </tr>\n",
       "    <tr>\n",
       "      <th>4</th>\n",
       "      <td>4</td>\n",
       "      <td>1</td>\n",
       "      <td>1</td>\n",
       "      <td>3</td>\n",
       "      <td>2</td>\n",
       "      <td>1</td>\n",
       "      <td>3</td>\n",
       "      <td>1</td>\n",
       "      <td>1</td>\n",
       "    </tr>\n",
       "    <tr>\n",
       "      <th>...</th>\n",
       "      <td>...</td>\n",
       "      <td>...</td>\n",
       "      <td>...</td>\n",
       "      <td>...</td>\n",
       "      <td>...</td>\n",
       "      <td>...</td>\n",
       "      <td>...</td>\n",
       "      <td>...</td>\n",
       "      <td>...</td>\n",
       "    </tr>\n",
       "    <tr>\n",
       "      <th>694</th>\n",
       "      <td>3</td>\n",
       "      <td>1</td>\n",
       "      <td>1</td>\n",
       "      <td>1</td>\n",
       "      <td>3</td>\n",
       "      <td>2</td>\n",
       "      <td>1</td>\n",
       "      <td>1</td>\n",
       "      <td>1</td>\n",
       "    </tr>\n",
       "    <tr>\n",
       "      <th>695</th>\n",
       "      <td>2</td>\n",
       "      <td>1</td>\n",
       "      <td>1</td>\n",
       "      <td>1</td>\n",
       "      <td>2</td>\n",
       "      <td>1</td>\n",
       "      <td>1</td>\n",
       "      <td>1</td>\n",
       "      <td>1</td>\n",
       "    </tr>\n",
       "    <tr>\n",
       "      <th>696</th>\n",
       "      <td>5</td>\n",
       "      <td>10</td>\n",
       "      <td>10</td>\n",
       "      <td>3</td>\n",
       "      <td>7</td>\n",
       "      <td>3</td>\n",
       "      <td>8</td>\n",
       "      <td>10</td>\n",
       "      <td>2</td>\n",
       "    </tr>\n",
       "    <tr>\n",
       "      <th>697</th>\n",
       "      <td>4</td>\n",
       "      <td>8</td>\n",
       "      <td>6</td>\n",
       "      <td>4</td>\n",
       "      <td>3</td>\n",
       "      <td>4</td>\n",
       "      <td>10</td>\n",
       "      <td>6</td>\n",
       "      <td>1</td>\n",
       "    </tr>\n",
       "    <tr>\n",
       "      <th>698</th>\n",
       "      <td>4</td>\n",
       "      <td>8</td>\n",
       "      <td>8</td>\n",
       "      <td>5</td>\n",
       "      <td>4</td>\n",
       "      <td>5</td>\n",
       "      <td>10</td>\n",
       "      <td>4</td>\n",
       "      <td>1</td>\n",
       "    </tr>\n",
       "  </tbody>\n",
       "</table>\n",
       "<p>683 rows × 9 columns</p>\n",
       "</div>"
      ],
      "text/plain": [
       "     clump_thickness  uniformity_cellsize  uniformity_cellshape  \\\n",
       "0                  5                    1                     1   \n",
       "1                  5                    4                     4   \n",
       "2                  3                    1                     1   \n",
       "3                  6                    8                     8   \n",
       "4                  4                    1                     1   \n",
       "..               ...                  ...                   ...   \n",
       "694                3                    1                     1   \n",
       "695                2                    1                     1   \n",
       "696                5                   10                    10   \n",
       "697                4                    8                     6   \n",
       "698                4                    8                     8   \n",
       "\n",
       "     marginal_adhesion  single_epithelial_cellsize bare_nuclei  \\\n",
       "0                    1                           2           1   \n",
       "1                    5                           7          10   \n",
       "2                    1                           2           2   \n",
       "3                    1                           3           4   \n",
       "4                    3                           2           1   \n",
       "..                 ...                         ...         ...   \n",
       "694                  1                           3           2   \n",
       "695                  1                           2           1   \n",
       "696                  3                           7           3   \n",
       "697                  4                           3           4   \n",
       "698                  5                           4           5   \n",
       "\n",
       "     bland_chromatin  normal_nucleoli  mitoses  \n",
       "0                  3                1        1  \n",
       "1                  3                2        1  \n",
       "2                  3                1        1  \n",
       "3                  3                7        1  \n",
       "4                  3                1        1  \n",
       "..               ...              ...      ...  \n",
       "694                1                1        1  \n",
       "695                1                1        1  \n",
       "696                8               10        2  \n",
       "697               10                6        1  \n",
       "698               10                4        1  \n",
       "\n",
       "[683 rows x 9 columns]"
      ]
     },
     "execution_count": 16,
     "metadata": {},
     "output_type": "execute_result"
    }
   ],
   "source": [
    "X"
   ]
  },
  {
   "cell_type": "code",
   "execution_count": 17,
   "id": "8c936f0b",
   "metadata": {},
   "outputs": [
    {
     "data": {
      "text/plain": [
       "0      0\n",
       "1      0\n",
       "2      0\n",
       "3      0\n",
       "4      0\n",
       "      ..\n",
       "694    0\n",
       "695    0\n",
       "696    1\n",
       "697    1\n",
       "698    1\n",
       "Name: class, Length: 683, dtype: int64"
      ]
     },
     "execution_count": 17,
     "metadata": {},
     "output_type": "execute_result"
    }
   ],
   "source": [
    "Y"
   ]
  },
  {
   "cell_type": "code",
   "execution_count": 18,
   "id": "cd7276f9",
   "metadata": {},
   "outputs": [],
   "source": [
    "from sklearn.model_selection import train_test_split\n",
    "X_train,X_test,Y_train,Y_test=train_test_split(X,Y,test_size=0.20,random_state=0)"
   ]
  },
  {
   "cell_type": "code",
   "execution_count": 19,
   "id": "5179eef6",
   "metadata": {},
   "outputs": [],
   "source": [
    "from sklearn.feature_selection import mutual_info_classif\n",
    "# determine the mutual information\n",
    "mutual_info = mutual_info_classif(X_train, Y_train)\n"
   ]
  },
  {
   "cell_type": "code",
   "execution_count": 20,
   "id": "ac76c994",
   "metadata": {},
   "outputs": [
    {
     "data": {
      "text/plain": [
       "array([0.29437192, 0.45526962, 0.45399358, 0.3211632 , 0.40884009,\n",
       "       0.41109518, 0.39586976, 0.36110442, 0.14343914])"
      ]
     },
     "execution_count": 20,
     "metadata": {},
     "output_type": "execute_result"
    }
   ],
   "source": [
    "mutual_info"
   ]
  },
  {
   "cell_type": "code",
   "execution_count": 21,
   "id": "c84351f7",
   "metadata": {},
   "outputs": [
    {
     "data": {
      "text/plain": [
       "uniformity_cellsize           0.455270\n",
       "uniformity_cellshape          0.453994\n",
       "bare_nuclei                   0.411095\n",
       "single_epithelial_cellsize    0.408840\n",
       "bland_chromatin               0.395870\n",
       "normal_nucleoli               0.361104\n",
       "marginal_adhesion             0.321163\n",
       "clump_thickness               0.294372\n",
       "mitoses                       0.143439\n",
       "dtype: float64"
      ]
     },
     "execution_count": 21,
     "metadata": {},
     "output_type": "execute_result"
    }
   ],
   "source": [
    "mutual_info = pd.Series(mutual_info)\n",
    "mutual_info.index =X_train.columns\n",
    "mutual_info.sort_values(ascending=False)"
   ]
  },
  {
   "cell_type": "code",
   "execution_count": 22,
   "id": "8e444014",
   "metadata": {},
   "outputs": [
    {
     "data": {
      "text/plain": [
       "<AxesSubplot:>"
      ]
     },
     "execution_count": 22,
     "metadata": {},
     "output_type": "execute_result"
    },
    {
     "data": {
      "image/png": "[encoded data removed]",
      "text/plain": [
       "<Figure size 1440x576 with 1 Axes>"
      ]
     },
     "metadata": {
      "needs_background": "light"
     },
     "output_type": "display_data"
    }
   ],
   "source": [
    "mutual_info.sort_values(ascending=False).plot.bar(figsize=(20, 8))"
   ]
  },
  {
   "cell_type": "code",
   "execution_count": 23,
   "id": "526d1acf",
   "metadata": {},
   "outputs": [
    {
     "data": {
      "text/plain": [
       "Index(['clump_thickness', 'uniformity_cellsize', 'uniformity_cellshape',\n",
       "       'marginal_adhesion', 'single_epithelial_cellsize', 'bare_nuclei',\n",
       "       'bland_chromatin', 'normal_nucleoli'],\n",
       "      dtype='object')"
      ]
     },
     "execution_count": 23,
     "metadata": {},
     "output_type": "execute_result"
    }
   ],
   "source": [
    "from sklearn.feature_selection import SelectKBest\n",
    "sel_cols = SelectKBest(mutual_info_classif, k=8)\n",
    "sel_cols.fit(X_train, Y_train)\n",
    "X_train.columns[sel_cols.get_support()]"
   ]
  },
  {
   "cell_type": "code",
   "execution_count": 24,
   "id": "5f8cc8b4",
   "metadata": {},
   "outputs": [],
   "source": [
    "from sklearn.model_selection import cross_val_score\n",
    "from sklearn.neighbors import KNeighborsClassifier\n",
    "from sklearn.tree import DecisionTreeClassifier\n",
    "from sklearn.naive_bayes import GaussianNB\n",
    "from sklearn.svm import SVC"
   ]
  },
  {
   "cell_type": "code",
   "execution_count": 25,
   "id": "7e8b9eb1",
   "metadata": {},
   "outputs": [],
   "source": [
    "X_train=X_train.drop(['mitoses'],axis=1)\n",
    "# X=X.drop(['marginal_adhesion'],axis=1) "
   ]
  },
  {
   "cell_type": "code",
   "execution_count": 26,
   "id": "907e895c",
   "metadata": {},
   "outputs": [],
   "source": [
    "# # choose k between 1 to 31\n",
    "# k_range = range(1, 10)\n",
    "# k_scores = []\n",
    "# # use iteration to caclulator different k in models, then return the average accuracy based on the cross validation\n",
    "# for k in k_range:\n",
    "#     knn = KNeighborsClassifier(n_neighbors=k)\n",
    "#     # X,Y will automatically divided by 10 folder\n",
    "#     scores = cross_val_score(knn, X, Y, cv=10, scoring='accuracy')\n",
    "#     k_scores.append(scores.mean())\n",
    "# # plot to see clearly\n",
    "# plt.plot(k_range, k_scores)\n",
    "# plt.xlabel('Value of K for KNN')\n",
    "# plt.ylabel('Cross-Validated Accuracy')\n",
    "# plt.show()"
   ]
  },
  {
   "cell_type": "code",
   "execution_count": 27,
   "id": "688e7711",
   "metadata": {},
   "outputs": [],
   "source": [
    "# knn = KNeighborsClassifier(n_neighbors=5)\n",
    "# scores = cross_val_score(knn, X, Y, cv=10, scoring='accuracy')\n",
    "# # print all 10 times scores \n",
    "# print(scores)\n",
    "# print(scores.mean())\n"
   ]
  },
  {
   "cell_type": "code",
   "execution_count": 28,
   "id": "334f0ba1",
   "metadata": {},
   "outputs": [
    {
     "name": "stdout",
     "output_type": "stream",
     "text": [
      "For DT Model:Mean accuracy is 0.952458 (Std accuracy is 0.028517)\n",
      "For SVM Model:Mean accuracy is 0.968889 (Std accuracy is 0.021700)\n",
      "For NB Model:Mean accuracy is 0.968889 (Std accuracy is 0.021700)\n",
      "For KNN Model:Mean accuracy is 0.970707 (Std accuracy is 0.016681)\n"
     ]
    }
   ],
   "source": [
    "models= []\n",
    "models.append(('DT', DecisionTreeClassifier()))\n",
    "models.append(('SVM', SVC())) \n",
    "models.append(('NB', GaussianNB()))\n",
    "models.append(('KNN', KNeighborsClassifier()))\n",
    "\n",
    "# evaluate each model in turn\n",
    "results = []\n",
    "names = []\n",
    "\n",
    "for name, model in models:\n",
    "#     kfold = KFold(n_splits=10)\n",
    "    cv_results = cross_val_score(model, X_train, Y_train, cv=10, scoring='accuracy')\n",
    "    results.append(cv_results)\n",
    "    names.append(name)\n",
    "    msg = \"For %s Model:Mean accuracy is %f (Std accuracy is %f)\" % (name, cv_results.mean(), cv_results.std())\n",
    "    print(msg)"
   ]
  },
  {
   "cell_type": "code",
   "execution_count": 29,
   "id": "b7da2307",
   "metadata": {},
   "outputs": [
    {
     "data": {
      "image/png": "[encoded data removed]",
      "text/plain": [
       "<Figure size 720x720 with 1 Axes>"
      ]
     },
     "metadata": {
      "needs_background": "light"
     },
     "output_type": "display_data"
    }
   ],
   "source": [
    "fig = plt.figure(figsize=(10,10))\n",
    "fig.suptitle('Performance Comparison')\n",
    "ax = fig.add_subplot(111)\n",
    "plt.boxplot(results)\n",
    "ax.set_xticklabels(names)\n",
    "plt.show()"
   ]
  },
  {
   "cell_type": "code",
   "execution_count": 30,
   "id": "9e271376",
   "metadata": {},
   "outputs": [],
   "source": [
    "from sklearn.metrics import classification_report\n",
    "from sklearn.metrics import confusion_matrix\n",
    "from sklearn.metrics import accuracy_score\n",
    "from sklearn.preprocessing import StandardScaler"
   ]
  },
  {
   "cell_type": "code",
   "execution_count": 33,
   "id": "af277e18",
   "metadata": {},
   "outputs": [],
   "source": [
    "X_test=X_test.drop(['mitoses'],axis=1)"
   ]
  },
  {
   "cell_type": "code",
   "execution_count": 34,
   "id": "cd3b9a5b",
   "metadata": {},
   "outputs": [
    {
     "name": "stdout",
     "output_type": "stream",
     "text": [
      "\n",
      "Model: DT\n",
      "Accuracy score:\n",
      "Classification report:\n",
      "               precision    recall  f1-score   support\n",
      "\n",
      "           0       0.99      0.93      0.96        87\n",
      "           1       0.89      0.98      0.93        50\n",
      "\n",
      "    accuracy                           0.95       137\n",
      "   macro avg       0.94      0.96      0.95       137\n",
      "weighted avg       0.95      0.95      0.95       137\n",
      "\n",
      "Confusion Matrix:\n",
      " [[81  6]\n",
      " [ 1 49]]\n",
      "\n",
      "Model: SVM\n",
      "Accuracy score:\n",
      "Classification report:\n",
      "               precision    recall  f1-score   support\n",
      "\n",
      "           0       0.98      0.94      0.96        87\n",
      "           1       0.91      0.96      0.93        50\n",
      "\n",
      "    accuracy                           0.95       137\n",
      "   macro avg       0.94      0.95      0.95       137\n",
      "weighted avg       0.95      0.95      0.95       137\n",
      "\n",
      "Confusion Matrix:\n",
      " [[82  5]\n",
      " [ 2 48]]\n",
      "\n",
      "Model: NB\n",
      "Accuracy score:\n",
      "Classification report:\n",
      "               precision    recall  f1-score   support\n",
      "\n",
      "           0       1.00      0.93      0.96        87\n",
      "           1       0.89      1.00      0.94        50\n",
      "\n",
      "    accuracy                           0.96       137\n",
      "   macro avg       0.95      0.97      0.95       137\n",
      "weighted avg       0.96      0.96      0.96       137\n",
      "\n",
      "Confusion Matrix:\n",
      " [[81  6]\n",
      " [ 0 50]]\n",
      "\n",
      "Model: KNN\n",
      "Accuracy score:\n",
      "Classification report:\n",
      "               precision    recall  f1-score   support\n",
      "\n",
      "           0       0.98      0.95      0.97        87\n",
      "           1       0.92      0.96      0.94        50\n",
      "\n",
      "    accuracy                           0.96       137\n",
      "   macro avg       0.95      0.96      0.95       137\n",
      "weighted avg       0.96      0.96      0.96       137\n",
      "\n",
      "Confusion Matrix:\n",
      " [[83  4]\n",
      " [ 2 48]]\n"
     ]
    }
   ],
   "source": [
    "for name, model in models:\n",
    "    scaler = StandardScaler().fit(X_train)\n",
    "    X_train_scaled = scaler.transform(X_train)\n",
    "    model.fit(X_train_scaled, Y_train)\n",
    "    X_test_scaled = scaler.transform(X_test)\n",
    "    predictions = model.predict(X_test_scaled)\n",
    "    print(\"\\nModel:\",name)\n",
    "    print(\"Accuracy score:\" % accuracy_score(Y_test, predictions))\n",
    "    print(\"Classification report:\\n\",classification_report(Y_test, predictions))\n",
    "    print(\"Confusion Matrix:\\n\",confusion_matrix(Y_test, predictions))"
   ]
  },
  {
   "cell_type": "code",
   "execution_count": 43,
   "id": "d401d2a0",
   "metadata": {},
   "outputs": [],
   "source": [
    "clf=KNeighborsClassifier()\n",
    "clf.fit(X_train.values,Y_train.values)\n",
    "predict = clf.predict(X_test.values)"
   ]
  },
  {
   "cell_type": "code",
   "execution_count": 44,
   "id": "e83d654b",
   "metadata": {},
   "outputs": [
    {
     "name": "stdout",
     "output_type": "stream",
     "text": [
      "[0]\n"
     ]
    }
   ],
   "source": [
    "example_measures = [[4,2,1,1,1,2,3,2]]\n",
    "prediction = clf.predict(example_measures)\n",
    "print(prediction)"
   ]
  },
  {
   "cell_type": "code",
   "execution_count": 39,
   "id": "eb3ed21a",
   "metadata": {},
   "outputs": [],
   "source": [
    "import itertools\n",
    "sns.set_theme(style=\"dark\")\n",
    "def plot_confusion_matrix(cm, classes, normalize=False,title='Confusion matrix', cmap=plt.cm.Blues):\n",
    "    \"\"\"\n",
    "    This function prints and plots the confusion matrix.\n",
    "    Normalization can be applied by setting `normalize=True`.\n",
    "    \"\"\"\n",
    "    if normalize:\n",
    "        cm = cm.astype('float') / cm.sum(axis=1)[:, np.newaxis]\n",
    "        print(\"Normalized confusion matrix\")\n",
    "    else:\n",
    "        print('Confusion matrix, without normalization')\n",
    "\n",
    "    print(cm)\n",
    "\n",
    "    plt.imshow(cm, interpolation='nearest', cmap=cmap)\n",
    "    plt.title(title)\n",
    "    plt.colorbar()\n",
    "    tick_marks = np.arange(len(classes))\n",
    "    plt.xticks(tick_marks, classes, rotation=45)\n",
    "    plt.yticks(tick_marks, classes)\n",
    "\n",
    "    fmt = '.2f' if normalize else 'd'\n",
    "    thresh = cm.max() / 2.\n",
    "    for i, j in itertools.product(range(cm.shape[0]), range(cm.shape[1])):\n",
    "        plt.text(j, i, format(cm[i, j], fmt),\n",
    "                 horizontalalignment=\"center\",\n",
    "                 color=\"white\" if cm[i, j] > thresh else \"black\")\n",
    "\n",
    "    plt.tight_layout()\n",
    "    plt.ylabel('True label')\n",
    "    plt.xlabel('Predicted label')"
   ]
  },
  {
   "cell_type": "code",
   "execution_count": 45,
   "id": "6901e9d9",
   "metadata": {},
   "outputs": [
    {
     "name": "stdout",
     "output_type": "stream",
     "text": [
      "              precision    recall  f1-score   support\n",
      "\n",
      "           0       0.98      0.97      0.97        87\n",
      "           1       0.94      0.96      0.95        50\n",
      "\n",
      "    accuracy                           0.96       137\n",
      "   macro avg       0.96      0.96      0.96       137\n",
      "weighted avg       0.96      0.96      0.96       137\n",
      "\n",
      "Confusion matrix, without normalization\n",
      "[[84  3]\n",
      " [ 2 48]]\n"
     ]
    },
    {
     "data": {
      "image/png": "[encoded data removed]",
      "text/plain": [
       "<Figure size 432x288 with 2 Axes>"
      ]
     },
     "metadata": {},
     "output_type": "display_data"
    }
   ],
   "source": [
    "# Compute confusion matrix\n",
    "cnf_matrix = confusion_matrix(Y_test, predict, labels=[0,1])\n",
    "np.set_printoptions(precision=2) \n",
    "\n",
    "print (classification_report(Y_test, predict))\n",
    "\n",
    "# Plot non-normalized confusion matrix\n",
    "plt.figure()\n",
    "plot_confusion_matrix(cnf_matrix, classes=['Benign(0)','Malignant(1)'],normalize= False,  title='Confusion matrix')"
   ]
  },
  {
   "cell_type": "code",
   "execution_count": 46,
   "id": "e17a37a6",
   "metadata": {},
   "outputs": [
    {
     "name": "stdout",
     "output_type": "stream",
     "text": [
      "[0]\n"
     ]
    }
   ],
   "source": [
    "import pickle\n",
    "pickle.dump(clf, open('model.pkl','wb'))\n",
    "\n",
    "model = pickle.load(open('model.pkl','rb'))\n",
    "print(model.predict([[4,2,1,1,1,2,3,2]]))"
   ]
  },
  {
   "cell_type": "code",
   "execution_count": null,
   "id": "a59179e9",
   "metadata": {},
   "outputs": [],
   "source": []
  }
 ],
 "metadata": {
  "kernelspec": {
   "display_name": "Python 3 (ipykernel)",
   "language": "python",
   "name": "python3"
  },
  "language_info": {
   "codemirror_mode": {
    "name": "ipython",
    "version": 3
   },
   "file_extension": ".py",
   "mimetype": "text/x-python",
   "name": "python",
   "nbconvert_exporter": "python",
   "pygments_lexer": "ipython3",
   "version": "3.9.12"
  }
 },
 "nbformat": 4,
 "nbformat_minor": 5
}
